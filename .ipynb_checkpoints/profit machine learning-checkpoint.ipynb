{
 "cells": [
  {
   "cell_type": "code",
   "execution_count": 44,
   "metadata": {},
   "outputs": [],
   "source": [
    "%matplotlib inline\n",
    "import pandas as pd\n",
    "import numpy as np\n",
    "import matplotlib.pyplot as plt\n",
    "from sklearn.linear_model import LinearRegression\n",
    "from sklearn.model_selection import train_test_split\n",
    "from sklearn.metrics import mean_squared_error, r2_score\n",
    "from matplotlib.collections import LineCollection\n",
    "from sklearn.isotonic import IsotonicRegression"
   ]
  },
  {
   "cell_type": "code",
   "execution_count": 45,
   "metadata": {},
   "outputs": [
    {
     "data": {
      "text/html": [
       "<div>\n",
       "<style scoped>\n",
       "    .dataframe tbody tr th:only-of-type {\n",
       "        vertical-align: middle;\n",
       "    }\n",
       "\n",
       "    .dataframe tbody tr th {\n",
       "        vertical-align: top;\n",
       "    }\n",
       "\n",
       "    .dataframe thead th {\n",
       "        text-align: right;\n",
       "    }\n",
       "</style>\n",
       "<table border=\"1\" class=\"dataframe\">\n",
       "  <thead>\n",
       "    <tr style=\"text-align: right;\">\n",
       "      <th></th>\n",
       "      <th>order_date_epoch</th>\n",
       "      <th>order_date</th>\n",
       "      <th>profit</th>\n",
       "    </tr>\n",
       "  </thead>\n",
       "  <tbody>\n",
       "    <tr>\n",
       "      <th>0</th>\n",
       "      <td>1420502400</td>\n",
       "      <td>2015-01-06</td>\n",
       "      <td>1348.7212</td>\n",
       "    </tr>\n",
       "    <tr>\n",
       "      <th>1</th>\n",
       "      <td>1420848000</td>\n",
       "      <td>2015-01-10</td>\n",
       "      <td>22.6537</td>\n",
       "    </tr>\n",
       "    <tr>\n",
       "      <th>2</th>\n",
       "      <td>1421107200</td>\n",
       "      <td>2015-01-13</td>\n",
       "      <td>413.9176</td>\n",
       "    </tr>\n",
       "    <tr>\n",
       "      <th>3</th>\n",
       "      <td>1421280000</td>\n",
       "      <td>2015-01-15</td>\n",
       "      <td>65.9780</td>\n",
       "    </tr>\n",
       "    <tr>\n",
       "      <th>4</th>\n",
       "      <td>1421712000</td>\n",
       "      <td>2015-01-20</td>\n",
       "      <td>385.7321</td>\n",
       "    </tr>\n",
       "  </tbody>\n",
       "</table>\n",
       "</div>"
      ],
      "text/plain": [
       "   order_date_epoch  order_date     profit\n",
       "0        1420502400  2015-01-06  1348.7212\n",
       "1        1420848000  2015-01-10    22.6537\n",
       "2        1421107200  2015-01-13   413.9176\n",
       "3        1421280000  2015-01-15    65.9780\n",
       "4        1421712000  2015-01-20   385.7321"
      ]
     },
     "execution_count": 45,
     "metadata": {},
     "output_type": "execute_result"
    }
   ],
   "source": [
    "profits_s = 'data/south_profits.csv'\n",
    "south_profits_df = pd.read_csv(profits_s, header = 0)\n",
    "south_profits_df.head()"
   ]
  },
  {
   "cell_type": "code",
   "execution_count": 46,
   "metadata": {},
   "outputs": [],
   "source": [
    "X = south_profits_df['order_date_epoch'].values.reshape(-1, 1)\n",
    "y = south_profits_df['profit'].values.reshape(-1, 1)\n",
    "x_axis = south_profits_df['order_date']"
   ]
  },
  {
   "cell_type": "code",
   "execution_count": 66,
   "metadata": {},
   "outputs": [
    {
     "data": {
      "image/png": "[encoded data removed]",
      "text/plain": [
       "<Figure size 432x288 with 1 Axes>"
      ]
     },
     "metadata": {
      "needs_background": "light"
     },
     "output_type": "display_data"
    }
   ],
   "source": [
    "plt.scatter(X, y)\n",
    "plt.xlabel(\"Date\")\n",
    "plt.ylabel(\"Profit\")\n",
    "# x_ticks = xticks(np.arrange(0,50,5)\n",
    "plt.show()\n",
    "#fix x axis labels\n",
    "# add graph header\n",
    "#plot trend line"
   ]
  },
  {
   "cell_type": "code",
   "execution_count": 7,
   "metadata": {},
   "outputs": [
    {
     "name": "stdout",
     "output_type": "stream",
     "text": [
      "R2 Score: 0.002037192399773513\n",
      "Weight coefficients:  [[-4.61047039e-07]]\n",
      "y-axis intercept:  [764.2490287]\n"
     ]
    }
   ],
   "source": [
    "model = LinearRegression()\n",
    "model.fit(X, y)\n",
    "score = model.score(X, y)\n",
    "print(f\"R2 Score: {score}\")\n",
    "print('Weight coefficients: ', model.coef_)\n",
    "print('y-axis intercept: ', model.intercept_) "
   ]
  },
  {
   "cell_type": "code",
   "execution_count": 8,
   "metadata": {},
   "outputs": [
    {
     "name": "stdout",
     "output_type": "stream",
     "text": [
      "Mean Squared Error (MSE): 139280.98986131974\n",
      "R-squared (R2 ): -0.005540049028946781\n"
     ]
    }
   ],
   "source": [
    "X_train, X_test, y_train, y_test = train_test_split(X, y, random_state=42)\n",
    "\n",
    "model.fit(X_train, y_train)\n",
    "predicted = model.predict(X_test)\n",
    "\n",
    "mse = mean_squared_error(y_test, predicted)\n",
    "r2 = r2_score(y_test, predicted)\n",
    "\n",
    "print(f\"Mean Squared Error (MSE): {mse}\")\n",
    "print(f\"R-squared (R2 ): {r2}\")"
   ]
  },
  {
   "cell_type": "code",
   "execution_count": 9,
   "metadata": {},
   "outputs": [],
   "source": [
    "# min, max, avg, predictions?"
   ]
  },
  {
   "cell_type": "code",
   "execution_count": 10,
   "metadata": {},
   "outputs": [
    {
     "data": {
      "text/html": [
       "<div>\n",
       "<style scoped>\n",
       "    .dataframe tbody tr th:only-of-type {\n",
       "        vertical-align: middle;\n",
       "    }\n",
       "\n",
       "    .dataframe tbody tr th {\n",
       "        vertical-align: top;\n",
       "    }\n",
       "\n",
       "    .dataframe thead th {\n",
       "        text-align: right;\n",
       "    }\n",
       "</style>\n",
       "<table border=\"1\" class=\"dataframe\">\n",
       "  <thead>\n",
       "    <tr style=\"text-align: right;\">\n",
       "      <th></th>\n",
       "      <th>order_date_epoch</th>\n",
       "      <th>order_date</th>\n",
       "      <th>profit</th>\n",
       "    </tr>\n",
       "  </thead>\n",
       "  <tbody>\n",
       "    <tr>\n",
       "      <th>0</th>\n",
       "      <td>1420502400</td>\n",
       "      <td>2015-01-06</td>\n",
       "      <td>9.3312</td>\n",
       "    </tr>\n",
       "    <tr>\n",
       "      <th>1</th>\n",
       "      <td>1421107200</td>\n",
       "      <td>2015-01-13</td>\n",
       "      <td>249.1494</td>\n",
       "    </tr>\n",
       "    <tr>\n",
       "      <th>2</th>\n",
       "      <td>1421539200</td>\n",
       "      <td>2015-01-18</td>\n",
       "      <td>6.4864</td>\n",
       "    </tr>\n",
       "    <tr>\n",
       "      <th>3</th>\n",
       "      <td>1421625600</td>\n",
       "      <td>2015-01-19</td>\n",
       "      <td>-287.9976</td>\n",
       "    </tr>\n",
       "    <tr>\n",
       "      <th>4</th>\n",
       "      <td>1421712000</td>\n",
       "      <td>2015-01-20</td>\n",
       "      <td>15.0828</td>\n",
       "    </tr>\n",
       "  </tbody>\n",
       "</table>\n",
       "</div>"
      ],
      "text/plain": [
       "   order_date_epoch  order_date    profit\n",
       "0        1420502400  2015-01-06    9.3312\n",
       "1        1421107200  2015-01-13  249.1494\n",
       "2        1421539200  2015-01-18    6.4864\n",
       "3        1421625600  2015-01-19 -287.9976\n",
       "4        1421712000  2015-01-20   15.0828"
      ]
     },
     "execution_count": 10,
     "metadata": {},
     "output_type": "execute_result"
    }
   ],
   "source": [
    "profits_w = 'data/west_profits.csv'\n",
    "west_profits_df = pd.read_csv(profits_w)\n",
    "west_profits_df.head()"
   ]
  },
  {
   "cell_type": "code",
   "execution_count": 11,
   "metadata": {},
   "outputs": [],
   "source": [
    "X = west_profits_df['order_date_epoch'].values.reshape(-1, 1)\n",
    "y = west_profits_df['profit'].values.reshape(-1, 1)\n",
    "x_axis = west_profits_df['order_date']"
   ]
  },
  {
   "cell_type": "code",
   "execution_count": 12,
   "metadata": {},
   "outputs": [
    {
     "data": {
      "image/png": "[encoded data removed]",
      "text/plain": [
       "<Figure size 432x288 with 1 Axes>"
      ]
     },
     "metadata": {
      "needs_background": "light"
     },
     "output_type": "display_data"
    }
   ],
   "source": [
    "plt.scatter(X, y)\n",
    "plt.xlabel(\"Date\")\n",
    "plt.ylabel(\"Profit\")\n",
    "\n",
    "plt.show()\n",
    "#fix x axis labels\n",
    "# add graph header\n",
    "#plot trend line"
   ]
  },
  {
   "cell_type": "code",
   "execution_count": 13,
   "metadata": {},
   "outputs": [
    {
     "name": "stdout",
     "output_type": "stream",
     "text": [
      "R2 Score: 0.007128746425656862\n",
      "Weight coefficients:  [[8.40464126e-07]]\n",
      "y-axis intercept:  [-1122.35324931]\n"
     ]
    }
   ],
   "source": [
    "model = LinearRegression()\n",
    "model.fit(X, y)\n",
    "score = model.score(X, y)\n",
    "print(f\"R2 Score: {score}\")\n",
    "print('Weight coefficients: ', model.coef_)\n",
    "print('y-axis intercept: ', model.intercept_) "
   ]
  },
  {
   "cell_type": "code",
   "execution_count": 14,
   "metadata": {},
   "outputs": [
    {
     "name": "stdout",
     "output_type": "stream",
     "text": [
      "Mean Squared Error (MSE): 256909.75345724035\n",
      "R-squared (R2 ): 0.0026029568527488056\n"
     ]
    }
   ],
   "source": [
    "X_train, X_test, y_train, y_test = train_test_split(X, y, random_state=42)\n",
    "\n",
    "model.fit(X_train, y_train)\n",
    "predicted = model.predict(X_test)\n",
    "\n",
    "mse = mean_squared_error(y_test, predicted)\n",
    "r2 = r2_score(y_test, predicted)\n",
    "\n",
    "print(f\"Mean Squared Error (MSE): {mse}\")\n",
    "print(f\"R-squared (R2 ): {r2}\")"
   ]
  },
  {
   "cell_type": "code",
   "execution_count": 15,
   "metadata": {
    "scrolled": true
   },
   "outputs": [
    {
     "data": {
      "text/html": [
       "<div>\n",
       "<style scoped>\n",
       "    .dataframe tbody tr th:only-of-type {\n",
       "        vertical-align: middle;\n",
       "    }\n",
       "\n",
       "    .dataframe tbody tr th {\n",
       "        vertical-align: top;\n",
       "    }\n",
       "\n",
       "    .dataframe thead th {\n",
       "        text-align: right;\n",
       "    }\n",
       "</style>\n",
       "<table border=\"1\" class=\"dataframe\">\n",
       "  <thead>\n",
       "    <tr style=\"text-align: right;\">\n",
       "      <th></th>\n",
       "      <th>order_date_epoch</th>\n",
       "      <th>order_date</th>\n",
       "      <th>profit</th>\n",
       "    </tr>\n",
       "  </thead>\n",
       "  <tbody>\n",
       "    <tr>\n",
       "      <th>0</th>\n",
       "      <td>1420416000</td>\n",
       "      <td>2015-01-05</td>\n",
       "      <td>4.8840</td>\n",
       "    </tr>\n",
       "    <tr>\n",
       "      <th>1</th>\n",
       "      <td>1420934400</td>\n",
       "      <td>2015-01-11</td>\n",
       "      <td>3.0814</td>\n",
       "    </tr>\n",
       "    <tr>\n",
       "      <th>2</th>\n",
       "      <td>1421107200</td>\n",
       "      <td>2015-01-13</td>\n",
       "      <td>10.5716</td>\n",
       "    </tr>\n",
       "    <tr>\n",
       "      <th>3</th>\n",
       "      <td>1421193600</td>\n",
       "      <td>2015-01-14</td>\n",
       "      <td>-53.2856</td>\n",
       "    </tr>\n",
       "    <tr>\n",
       "      <th>4</th>\n",
       "      <td>1421366400</td>\n",
       "      <td>2015-01-16</td>\n",
       "      <td>-5.9335</td>\n",
       "    </tr>\n",
       "  </tbody>\n",
       "</table>\n",
       "</div>"
      ],
      "text/plain": [
       "   order_date_epoch  order_date   profit\n",
       "0        1420416000  2015-01-05   4.8840\n",
       "1        1420934400  2015-01-11   3.0814\n",
       "2        1421107200  2015-01-13  10.5716\n",
       "3        1421193600  2015-01-14 -53.2856\n",
       "4        1421366400  2015-01-16  -5.9335"
      ]
     },
     "execution_count": 15,
     "metadata": {},
     "output_type": "execute_result"
    }
   ],
   "source": [
    "profits_e = 'data/east_profits.csv'\n",
    "east_profits_df = pd.read_csv(profits_e)\n",
    "east_profits_df.head()"
   ]
  },
  {
   "cell_type": "code",
   "execution_count": 16,
   "metadata": {},
   "outputs": [],
   "source": [
    "X = east_profits_df['order_date_epoch'].values.reshape(-1, 1)\n",
    "y = east_profits_df['profit'].values.reshape(-1, 1)\n",
    "x_axis = east_profits_df['order_date']"
   ]
  },
  {
   "cell_type": "code",
   "execution_count": 17,
   "metadata": {},
   "outputs": [
    {
     "data": {
      "image/png": "[encoded data removed]",
      "text/plain": [
       "<Figure size 432x288 with 1 Axes>"
      ]
     },
     "metadata": {
      "needs_background": "light"
     },
     "output_type": "display_data"
    }
   ],
   "source": [
    "plt.scatter(X, y)\n",
    "plt.xlabel(\"Date\")\n",
    "plt.ylabel(\"Profit\")\n",
    "\n",
    "plt.show()\n",
    "#fix x axis labels\n",
    "# add graph header\n",
    "#plot trend line"
   ]
  },
  {
   "cell_type": "code",
   "execution_count": 18,
   "metadata": {},
   "outputs": [
    {
     "name": "stdout",
     "output_type": "stream",
     "text": [
      "R2 Score: 0.0016824988474153368\n",
      "Weight coefficients:  [[5.81996039e-07]]\n",
      "y-axis intercept:  [-750.79635886]\n"
     ]
    }
   ],
   "source": [
    "model = LinearRegression()\n",
    "model.fit(X, y)\n",
    "score = model.score(X, y)\n",
    "print(f\"R2 Score: {score}\")\n",
    "print('Weight coefficients: ', model.coef_)\n",
    "print('y-axis intercept: ', model.intercept_) "
   ]
  },
  {
   "cell_type": "code",
   "execution_count": 19,
   "metadata": {},
   "outputs": [
    {
     "name": "stdout",
     "output_type": "stream",
     "text": [
      "Mean Squared Error (MSE): 136170.8530027261\n",
      "R-squared (R2 ): 0.0019060505293723162\n"
     ]
    }
   ],
   "source": [
    "X_train, X_test, y_train, y_test = train_test_split(X, y, random_state=42)\n",
    "\n",
    "model.fit(X_train, y_train)\n",
    "predicted = model.predict(X_test)\n",
    "\n",
    "mse = mean_squared_error(y_test, predicted)\n",
    "r2 = r2_score(y_test, predicted)\n",
    "\n",
    "print(f\"Mean Squared Error (MSE): {mse}\")\n",
    "print(f\"R-squared (R2 ): {r2}\")"
   ]
  },
  {
   "cell_type": "code",
   "execution_count": 20,
   "metadata": {},
   "outputs": [
    {
     "data": {
      "text/html": [
       "<div>\n",
       "<style scoped>\n",
       "    .dataframe tbody tr th:only-of-type {\n",
       "        vertical-align: middle;\n",
       "    }\n",
       "\n",
       "    .dataframe tbody tr th {\n",
       "        vertical-align: top;\n",
       "    }\n",
       "\n",
       "    .dataframe thead th {\n",
       "        text-align: right;\n",
       "    }\n",
       "</style>\n",
       "<table border=\"1\" class=\"dataframe\">\n",
       "  <thead>\n",
       "    <tr style=\"text-align: right;\">\n",
       "      <th></th>\n",
       "      <th>order_date_epoch</th>\n",
       "      <th>order_date</th>\n",
       "      <th>profit</th>\n",
       "    </tr>\n",
       "  </thead>\n",
       "  <tbody>\n",
       "    <tr>\n",
       "      <th>0</th>\n",
       "      <td>1420243200</td>\n",
       "      <td>2015-01-03</td>\n",
       "      <td>5.5512</td>\n",
       "    </tr>\n",
       "    <tr>\n",
       "      <th>1</th>\n",
       "      <td>1420329600</td>\n",
       "      <td>2015-01-04</td>\n",
       "      <td>-65.9901</td>\n",
       "    </tr>\n",
       "    <tr>\n",
       "      <th>2</th>\n",
       "      <td>1420588800</td>\n",
       "      <td>2015-01-07</td>\n",
       "      <td>-71.9621</td>\n",
       "    </tr>\n",
       "    <tr>\n",
       "      <th>3</th>\n",
       "      <td>1420761600</td>\n",
       "      <td>2015-01-09</td>\n",
       "      <td>10.9180</td>\n",
       "    </tr>\n",
       "    <tr>\n",
       "      <th>4</th>\n",
       "      <td>1421712000</td>\n",
       "      <td>2015-01-20</td>\n",
       "      <td>183.5546</td>\n",
       "    </tr>\n",
       "  </tbody>\n",
       "</table>\n",
       "</div>"
      ],
      "text/plain": [
       "   order_date_epoch  order_date    profit\n",
       "0        1420243200  2015-01-03    5.5512\n",
       "1        1420329600  2015-01-04  -65.9901\n",
       "2        1420588800  2015-01-07  -71.9621\n",
       "3        1420761600  2015-01-09   10.9180\n",
       "4        1421712000  2015-01-20  183.5546"
      ]
     },
     "execution_count": 20,
     "metadata": {},
     "output_type": "execute_result"
    }
   ],
   "source": [
    "profits_c = 'data/central_profits.csv'\n",
    "central_profits_df = pd.read_csv(profits_c)\n",
    "central_profits_df.head()"
   ]
  },
  {
   "cell_type": "code",
   "execution_count": 21,
   "metadata": {},
   "outputs": [],
   "source": [
    "X = central_profits_df['order_date_epoch'].values.reshape(-1, 1)\n",
    "y = central_profits_df['profit'].values.reshape(-1, 1)\n",
    "x_axis = central_profits_df['order_date']"
   ]
  },
  {
   "cell_type": "code",
   "execution_count": 22,
   "metadata": {},
   "outputs": [
    {
     "data": {
      "image/png": "[encoded data removed]",
      "text/plain": [
       "<Figure size 432x288 with 1 Axes>"
      ]
     },
     "metadata": {
      "needs_background": "light"
     },
     "output_type": "display_data"
    }
   ],
   "source": [
    "plt.scatter(X, y)\n",
    "plt.xlabel(\"Date\")\n",
    "plt.ylabel(\"Profit\")\n",
    "\n",
    "plt.show()\n",
    "#fix x axis labels\n",
    "# add graph header\n",
    "#plot trend line"
   ]
  },
  {
   "cell_type": "code",
   "execution_count": 23,
   "metadata": {},
   "outputs": [
    {
     "name": "stdout",
     "output_type": "stream",
     "text": [
      "R2 Score: 0.000891296947894249\n",
      "Weight coefficients:  [[4.49238663e-07]]\n",
      "y-axis intercept:  [-614.60916882]\n"
     ]
    }
   ],
   "source": [
    "model = LinearRegression()\n",
    "model.fit(X, y)\n",
    "score = model.score(X, y)\n",
    "print(f\"R2 Score: {score}\")\n",
    "print('Weight coefficients: ', model.coef_)\n",
    "print('y-axis intercept: ', model.intercept_) "
   ]
  },
  {
   "cell_type": "code",
   "execution_count": 24,
   "metadata": {},
   "outputs": [
    {
     "name": "stdout",
     "output_type": "stream",
     "text": [
      "Mean Squared Error (MSE): 176033.47533092252\n",
      "R-squared (R2 ): -0.03689923047606247\n"
     ]
    }
   ],
   "source": [
    "X_train, X_test, y_train, y_test = train_test_split(X, y, random_state=42)\n",
    "\n",
    "model.fit(X_train, y_train)\n",
    "predicted = model.predict(X_test)\n",
    "\n",
    "mse = mean_squared_error(y_test, predicted)\n",
    "r2 = r2_score(y_test, predicted)\n",
    "\n",
    "print(f\"Mean Squared Error (MSE): {mse}\")\n",
    "print(f\"R-squared (R2 ): {r2}\")"
   ]
  },
  {
   "cell_type": "code",
   "execution_count": 64,
   "metadata": {},
   "outputs": [
    {
     "data": {
      "image/png": "[encoded data removed]",
      "text/plain": [
       "<Figure size 432x288 with 1 Axes>"
      ]
     },
     "metadata": {
      "needs_background": "light"
     },
     "output_type": "display_data"
    }
   ],
   "source": [
    "X = central_profits_df['order_date_epoch']\n",
    "y = central_profits_df['profit']\n",
    "n = len(central_profits_df['order_date_epoch'])\n",
    "isoreg = IsotonicRegression()\n",
    "\n",
    "y_ = isoreg.fit_transform(X, y)\n",
    "\n",
    "linreg = LinearRegression()\n",
    "linreg.fit(X[:, np.newaxis], y)\n",
    "\n",
    "segments = [[[i, y[i]], [i, y_[i]]] for i in range(n)]\n",
    "lincol = LineCollection(segments, zorder=0)\n",
    "lincol.set_array(np.ones(len(y)))\n",
    "lincol.set_linewidths(np.full(n, 0.5))\n",
    "\n",
    "fig = plt.figure()\n",
    "plt.plot(X, y, 'b.', markersize=8)\n",
    "plt.plot(X, y_, 'r-')\n",
    "# plt.plot(X, linreg.predict(X[:, np.newaxis]), 'y-')\n",
    "plt.gca().add_collection(lincol)\n",
    "plt.legend(('Data', 'Isotonic Fit', 'Linear Fit'), loc='upper right')\n",
    "plt.title('Central Region')\n",
    "plt.ylim(-500,1000)\n",
    "plt.xlabel(\"Date(epoch)\")\n",
    "plt.ylabel(\"Profit($)\")\n",
    "plt.savefig(\"centraliso.jpg\")\n",
    "plt.show()"
   ]
  },
  {
   "cell_type": "code",
   "execution_count": 62,
   "metadata": {},
   "outputs": [
    {
     "data": {
      "image/png": "[encoded data removed]",
      "text/plain": [
       "<Figure size 432x288 with 1 Axes>"
      ]
     },
     "metadata": {
      "needs_background": "light"
     },
     "output_type": "display_data"
    }
   ],
   "source": [
    "X = east_profits_df['order_date_epoch']\n",
    "y = east_profits_df['profit']\n",
    "n = len(east_profits_df['order_date_epoch'])\n",
    "isoreg = IsotonicRegression()\n",
    "\n",
    "y_ = isoreg.fit_transform(X, y)\n",
    "\n",
    "linreg = LinearRegression()\n",
    "linreg.fit(X[:, np.newaxis], y)\n",
    "\n",
    "segments = [[[i, y[i]], [i, y_[i]]] for i in range(n)]\n",
    "lincol = LineCollection(segments, zorder=0)\n",
    "lincol.set_array(np.ones(len(y)))\n",
    "lincol.set_linewidths(np.full(n, 0.5))\n",
    "\n",
    "fig = plt.figure()\n",
    "plt.plot(X, y, 'b.', markersize=8)\n",
    "plt.plot(X, y_, 'r-')\n",
    "# plt.plot(X, linreg.predict(X[:, np.newaxis]), 'y-')\n",
    "plt.gca().add_collection(lincol)\n",
    "plt.legend(('Data', 'Isotonic Fit', 'Linear Fit'), loc='lower left')\n",
    "plt.title('East Region')\n",
    "plt.ylim(-500,1000)\n",
    "plt.xlabel(\"Date(epoch)\")\n",
    "plt.ylabel(\"Profit($)\")\n",
    "plt.savefig(\"eastiso.jpg\")\n",
    "plt.show()"
   ]
  },
  {
   "cell_type": "code",
   "execution_count": 60,
   "metadata": {},
   "outputs": [
    {
     "data": {
      "image/png": "[encoded data removed]",
      "text/plain": [
       "<Figure size 432x288 with 1 Axes>"
      ]
     },
     "metadata": {
      "needs_background": "light"
     },
     "output_type": "display_data"
    }
   ],
   "source": [
    "X = west_profits_df['order_date_epoch']\n",
    "y = west_profits_df['profit']\n",
    "n = len(west_profits_df['order_date_epoch'])\n",
    "isoreg = IsotonicRegression()\n",
    "\n",
    "y_ = isoreg.fit_transform(X, y)\n",
    "\n",
    "linreg = LinearRegression()\n",
    "linreg.fit(X[:, np.newaxis], y)\n",
    "\n",
    "segments = [[[i, y[i]], [i, y_[i]]] for i in range(n)]\n",
    "lincol = LineCollection(segments, zorder=0)\n",
    "lincol.set_array(np.ones(len(y)))\n",
    "lincol.set_linewidths(np.full(n, 0.5))\n",
    "\n",
    "fig = plt.figure()\n",
    "plt.plot(X, y, 'b.', markersize=8)\n",
    "plt.plot(X, y_, 'r-')\n",
    "# plt.plot(X, linreg.predict(X[:, np.newaxis]), 'y-')\n",
    "plt.gca().add_collection(lincol)\n",
    "plt.legend(('Data', 'Isotonic Fit', 'Linear Fit'), loc='upper left')\n",
    "plt.title('West Region')\n",
    "plt.ylim(-500,1000)\n",
    "plt.xlabel(\"Date(epoch)\")\n",
    "plt.ylabel(\"Profit($)\")\n",
    "plt.savefig(\"westiso.jpg\")\n",
    "plt.show()"
   ]
  },
  {
   "cell_type": "code",
   "execution_count": 58,
   "metadata": {},
   "outputs": [
    {
     "data": {
      "image/png": "[encoded data removed]",
      "text/plain": [
       "<Figure size 432x288 with 1 Axes>"
      ]
     },
     "metadata": {
      "needs_background": "light"
     },
     "output_type": "display_data"
    }
   ],
   "source": [
    "X = south_profits_df['order_date_epoch']\n",
    "y = south_profits_df['profit']\n",
    "n = len(south_profits_df['order_date_epoch'])\n",
    "isoreg = IsotonicRegression()\n",
    "\n",
    "y_ = isoreg.fit_transform(X, y)\n",
    "\n",
    "linreg = LinearRegression()\n",
    "linreg.fit(X[:, np.newaxis], y)\n",
    "\n",
    "segments = [[[i, y[i]], [i, y_[i]]] for i in range(n)]\n",
    "lincol = LineCollection(segments, zorder=0)\n",
    "lincol.set_array(np.ones(len(y)))\n",
    "lincol.set_linewidths(np.full(n, 0.5))\n",
    "\n",
    "fig = plt.figure()\n",
    "plt.plot(X, y, 'b.', markersize=8)\n",
    "# plt.plot(X, y_, 'r-')\n",
    "plt.plot(X, linreg.predict(X[:, np.newaxis]), 'y-')\n",
    "plt.gca().add_collection(lincol)\n",
    "plt.legend(('Data', 'Isotonic Fit', 'Linear Fit'), loc='upper left')\n",
    "plt.title('South Region')\n",
    "# plt.ylim(-500,1000)\n",
    "plt.xlabel(\"Date(epoch)\")\n",
    "plt.ylabel(\"Profit($)\")\n",
    "plt.savefig(\"southline.jpg\")\n",
    "plt.show()"
   ]
  },
  {
   "cell_type": "code",
   "execution_count": null,
   "metadata": {},
   "outputs": [],
   "source": []
  }
 ],
 "metadata": {
  "kernelspec": {
   "display_name": "Python 3",
   "language": "python",
   "name": "python3"
  },
  "language_info": {
   "codemirror_mode": {
    "name": "ipython",
    "version": 3
   },
   "file_extension": ".py",
   "mimetype": "text/x-python",
   "name": "python",
   "nbconvert_exporter": "python",
   "pygments_lexer": "ipython3",
   "version": "3.7.3"
  }
 },
 "nbformat": 4,
 "nbformat_minor": 2
}
